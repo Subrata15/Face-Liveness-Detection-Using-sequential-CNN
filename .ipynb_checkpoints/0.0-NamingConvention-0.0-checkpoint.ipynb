{
 "cells": [
  {
   "cell_type": "markdown",
   "id": "b7a65f15",
   "metadata": {},
   "source": [
    "### Harisabekti's Naming Convention Structure\n",
    "\n",
    "1. **Phase**: `[int:Phase]`\n",
    "   - **Description**: This is an integer representing the phase of the project or process. It is the first number before the first dot.\n",
    "   - **Example**: In `0.1-PrepareDataset-0.0`, the phase is `0`.\n",
    "\n",
    "2. **Step**: `[int:Step]`\n",
    "   - **Description**: This is an integer representing the specific step within the given phase. It is the number after the first dot.\n",
    "   - **Example**: In `0.1-PrepareDataset-0.0`, the step is `1`.\n",
    "\n",
    "3. **NicknameTask**: `[str:NicknameTask]`\n",
    "   - **Description**: This is a string that provides a brief, human-readable description of the task. It is located between the dash (`-`) separators.\n",
    "   - **Example**: In `0.1-PrepareDataset-0.0`, the nickname task is `PrepareDataset`.\n",
    "\n",
    "4. **Main Version**: `[int:main_version]`\n",
    "   - **Description**: This is an integer representing the main version of the task. It indicates significant revisions or changes. It is the first number after the last dash and before the last dot.\n",
    "   - **Example**: In `0.1-PrepareDataset-0.0`, the main version is `0`.\n",
    "\n",
    "5. **Sub Version**: `[int:sub_version]`\n",
    "   - **Description**: This is an integer representing the sub-version or minor revision of the task. It indicates minor changes or updates. It is the number after the last dot.\n",
    "   - **Example**: In `0.1-PrepareDataset-0.0`, the sub-version is `0`.\n",
    "\n",
    "### Examples Explained\n",
    "\n",
    "1. **Example 1**: `0.0-DefineGeneralRequirements-0.0`\n",
    "   - **Phase**: `0` (Initial phase)\n",
    "   - **Step**: `0` (First step in the phase)\n",
    "   - **NicknameTask**: `DefineGeneralRequirements` (Task is to define general requirements)\n",
    "   - **Main Version**: `0` (Initial version of the task)\n",
    "   - **Sub Version**: `0` (No minor revisions yet)\n",
    "\n",
    "2. **Example 2**: `0.1-PrepareDataset-0.0`\n",
    "   - **Phase**: `0` (Initial phase)\n",
    "   - **Step**: `1` (Second step in the phase)\n",
    "   - **NicknameTask**: `PrepareDataset` (Task is to prepare the dataset)\n",
    "   - **Main Version**: `0` (Initial version of the task)\n",
    "   - **Sub Version**: `0` (No minor revisions yet)\n",
    "\n",
    "### Summary\n",
    "\n",
    "The naming convention `[int:Phase].[int:Step]-[str:NicknameTask]-[int:main_version].[int:sub_version]` is a structured way to label tasks or components within a project, indicating their phase, step, descriptive name, and versioning information. This helps in organizing and tracking progress and updates efficiently.\n",
    "\n",
    "Here's the breakdown in a table for clarity:\n",
    "\n",
    "| Component         | Example Value  | Description                                      |\n",
    "|-------------------|----------------|--------------------------------------------------|\n",
    "| Phase             | 0              | Initial phase of the project or process          |\n",
    "| Step              | 1              | Specific step within the phase                   |\n",
    "| NicknameTask      | PrepareDataset | Brief description of the task                    |\n",
    "| Main Version      | 0              | Significant revision of the task                 |\n",
    "| Sub Version       | 0              | Minor update or revision of the task             |\n",
    "\n",
    "This structure ensures that each task is clearly identified by its phase and step within the project, along with a descriptive name and versioning to track changes."
   ]
  },
  {
   "cell_type": "code",
   "execution_count": null,
   "id": "3a23adfe",
   "metadata": {},
   "outputs": [],
   "source": []
  }
 ],
 "metadata": {
  "kernelspec": {
   "display_name": "Python 3 (ipykernel)",
   "language": "python",
   "name": "python3"
  },
  "language_info": {
   "codemirror_mode": {
    "name": "ipython",
    "version": 3
   },
   "file_extension": ".py",
   "mimetype": "text/x-python",
   "name": "python",
   "nbconvert_exporter": "python",
   "pygments_lexer": "ipython3",
   "version": "3.9.18"
  }
 },
 "nbformat": 4,
 "nbformat_minor": 5
}
